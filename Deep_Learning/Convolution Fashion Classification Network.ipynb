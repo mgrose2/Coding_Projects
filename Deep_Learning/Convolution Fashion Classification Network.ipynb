{
 "cells": [
  {
   "cell_type": "markdown",
   "metadata": {},
   "source": [
    "A convolutional network for predicting fashion items (shirts, shoes, etc.)"
   ]
  },
  {
   "cell_type": "code",
   "execution_count": 2,
   "metadata": {},
   "outputs": [],
   "source": [
    "import torch\n",
    "import torch.nn as nn\n",
    "import torch.nn.functional as F\n",
    "import torch.optim as optim\n",
    "from torch.utils.data import Dataset, DataLoader\n",
    "import numpy as np\n",
    "import matplotlib.pyplot as plt\n",
    "from tqdm import tqdm\n",
    "from torchvision import transforms, utils, datasets\n",
    "from torch.nn.parameter import Parameter\n",
    "import pdb"
   ]
  },
  {
   "cell_type": "markdown",
   "metadata": {},
   "source": [
    "## Part 1"
   ]
  },
  {
   "cell_type": "code",
   "execution_count": 56,
   "metadata": {},
   "outputs": [
    {
     "name": "stderr",
     "output_type": "stream",
     "text": [
      "loss:0.8001: 100%|██████████| 8574/8574 [02:09<00:00, 65.96it/s] \n"
     ]
    }
   ],
   "source": [
    "#A class implementing a convolution on a layer\n",
    "class Conv2d(nn.Module):\n",
    "    def  __init__(self, n_channels, out_channels, kernel_size, stride=1, \n",
    "                  padding=0, dilation=1, groups=1, bias=True):\n",
    "        self.__dict__.update(locals())\n",
    "        super(Conv2d, self).__init__()\n",
    "\n",
    "        self.weight = Parameter(torch.Tensor(out_channels, \n",
    "                               n_channels, \n",
    "                               *kernel_size))\n",
    "        self.bias = Parameter(torch.Tensor(out_channels))\n",
    "    \n",
    "        self.weight.data.uniform_(-.1,.1) #Part 2\n",
    "        self.bias.data.uniform_(0,0)\n",
    "    \n",
    "    def forward(self, x):\n",
    "        return F.conv2d(x, self.weight, self.bias, self.stride, \n",
    "                        self.padding, self.dilation, self.groups)\n",
    "    \n",
    "    \n",
    "#A class implementing cross entropy loss\n",
    "class CrossEntropy(nn.Module):\n",
    "    def __init__(self, weight=None, size_average=None, ignore_index=-100, reduce=None, reduction='elementwise_mean'):\n",
    "        self.__dict__.update(locals())\n",
    "        super(CrossEntropy, self).__init__()\n",
    "        \n",
    "    \n",
    "    def forward(self, y_hat, y_truth):\n",
    "        #Following a formula for cross entropy loss\n",
    "        values,_ = torch.max(y_hat, 1, keepdim=True)\n",
    "        g = y_hat\n",
    "        g = torch.exp(g - values)\n",
    "        g = g/(g.sum(1,keepdim=True))\n",
    "        user = g[torch.arange(y_hat.size(0)),y_truth]\n",
    "        losses = -torch.log(user.clamp(1e-40))\n",
    "        return(torch.mean(losses))\n",
    "\n",
    "#A class for the convolutional network\n",
    "class ConvNetwork(nn.Module):\n",
    "    def __init__(self, dataset):\n",
    "        super(ConvNetwork, self).__init__()\n",
    "        x, y = dataset[0]\n",
    "        c, h , w = x.size()\n",
    "        output = 10\n",
    "        \n",
    "        self.net = nn.Sequential(\n",
    "          Conv2d(c, 20, (3,3), padding =(1,1)),\n",
    "          nn.ReLU(), \n",
    "          Conv2d(20,10, (5,5), padding = (2,2)),\n",
    "          nn.ReLU(),\n",
    "          Conv2d(10, output, (28,28), padding =(0,0)),\n",
    "            \n",
    "        )\n",
    "        \n",
    "    def forward(self,x):\n",
    "        return self.net(x).squeeze(2).squeeze(2)\n",
    "\n",
    "#A class for uploading the fashion dataset\n",
    "class FashionMNISTProcessedDataset(Dataset):\n",
    "    def __init__(self,root, train=True):\n",
    "        self.data = datasets.FashionMNIST(root, train=train, transform=transforms.ToTensor(), download = True)\n",
    "\n",
    "    \n",
    "    def __getitem__(self, i):\n",
    "        x, y = self.data[i]\n",
    "        return x, y\n",
    "    \n",
    "    def __len__(self):\n",
    "        return len(self.data)\n",
    "    \n",
    "#Load the dataset \n",
    "train_dataset = FashionMNISTProcessedDataset('/tmp/fashionmnist', train=True)\n",
    "val_dataset = FashionMNISTProcessedDataset('/tmp/fashionmnist', train=False)\n",
    "\n",
    "#Initialize the model, loss, and optimizer\n",
    "model = ConvNetwork(train_dataset)\n",
    "model = model.cuda()\n",
    "my_objective = CrossEntropy()\n",
    "optimizer = optim.SGD(model.parameters(), lr=1e-4)\n",
    "\n",
    "#Create the data loaders \n",
    "train_loader = DataLoader(train_dataset, batch_size=42, pin_memory=True)\n",
    "val_loader = DataLoader(val_dataset, batch_size=42, pin_memory=True)\n",
    "\n",
    "#Create lists to keep track \n",
    "my_losses = []\n",
    "val_losses = []\n",
    "val_avg_loss = []\n",
    "loop = tqdm(total=len(train_loader)*6, position=0)\n",
    "counter = 0\n",
    "for epoch in range(6):\n",
    "    \n",
    "    #Load the data\n",
    "    for x, y_truth in train_loader:\n",
    "        x, y_truth = x.cuda(async=True), y_truth.cuda(async=True) \n",
    "        \n",
    "        #Get the gradientand losses\n",
    "        optimizer.zero_grad()\n",
    "        y_hat = model(x)\n",
    "        my_loss = my_objective(y_hat, y_truth)\n",
    "        my_losses.append(my_loss.item())\n",
    "        \n",
    "        #Update the update bar\n",
    "        loop.set_description('loss:{:.4f}'.format(my_loss.item()))\n",
    "        loop.update(1)\n",
    "        \n",
    "        #Update the model\n",
    "        my_loss.backward()\n",
    "        optimizer.step()\n",
    "        \n",
    "        #Only do the validation every 100 batches\n",
    "        if (counter % 100 == 0):\n",
    "            for x, y_truth in val_loader:\n",
    "                x, y_truth = x.cuda(async=True), y_truth.cuda(async=True)\n",
    "\n",
    "                y_hat = model(x)\n",
    "                loss = my_objective(y_hat, y_truth)\n",
    "\n",
    "                val_losses.append(loss.item())\n",
    "            val_avg_loss.append(np.mean(val_losses))\n",
    "            val_losses.clear()\n",
    "        counter+=1    \n",
    "            \n",
    "\n",
    "loop.close()\n"
   ]
  },
  {
   "cell_type": "markdown",
   "metadata": {},
   "source": [
    "## Part 3"
   ]
  },
  {
   "cell_type": "code",
   "execution_count": 57,
   "metadata": {},
   "outputs": [
    {
     "data": {
      "image/png": "[encoded data removed]",
      "text/plain": [
       "<Figure size 432x288 with 1 Axes>"
      ]
     },
     "metadata": {},
     "output_type": "display_data"
    }
   ],
   "source": [
    "#Plot my Losses\n",
    "plt.plot(my_losses)\n",
    "plt.plot(range(0,8600,100), val_avg_loss)\n",
    "plt.xlabel(\"Loss Interations\")\n",
    "plt.ylabel(\"Cross Entropy Loss Error\")\n",
    "plt.show()"
   ]
  },
  {
   "cell_type": "code",
   "execution_count": 58,
   "metadata": {
    "scrolled": true
   },
   "outputs": [
    {
     "name": "stdout",
     "output_type": "stream",
     "text": [
      "Total Parameter Size: 83620\n",
      "Total Accuracy: %70.83333730697632\n"
     ]
    }
   ],
   "source": [
    "#Get the parameters and accuracy to see how the model did\n",
    "total = sum([np.prod(p.size()) for p in model.parameters()])\n",
    "print(\"Total Parameter Size: \" +str(total))\n",
    "\n",
    "acc = (torch.softmax(y_hat,1).argmax(1) == y_truth).float().mean()\n",
    "print(\"Total Accuracy: %\" + str(acc.item()*100))"
   ]
  },
  {
   "cell_type": "markdown",
   "metadata": {},
   "source": [
    "## Part 4"
   ]
  },
  {
   "cell_type": "markdown",
   "metadata": {},
   "source": [
    "Practicing the sizing of using convolutional networks."
   ]
  },
  {
   "cell_type": "markdown",
   "metadata": {},
   "source": [
    "Using a Kernel size of 3x3:  W2=(W1−F+2P)/S+1       H2=(H1−F+2P)/S+1\n",
    "\n",
    "(c=3, h=10, w=10) ⇒ (c=10, h=8, w=8) : (out_channels=10, kernel_size=(3, 3), padding=(0, 0))\n",
    "\n",
    "(c=3, h=10, w=10) ⇒ (c=22, h=10, w=10) : (out_channels=22, kernel_size=(3, 3), padding=(1, 1))\n",
    "\n",
    "(c=3, h=10, w=10) ⇒ (c=65, h=12, w=12) : (out_channels=65, kernel_size=(3, 3), padding=(2, 2))\n",
    "\n",
    "(c=3, h=10, w=10) ⇒ (c=7, h=20, w=20) : (out_channels=7, kernel_size=(3, 3), padding=(6, 6))\n",
    "\n",
    "Using a Kernel size of 5×5:\n",
    "\n",
    "(c=3, h=10, w=10) ⇒ (c=10, h=8, w=8) : (out_channels=10, kernel_size=(5, 5), padding=(1, 1))\n",
    "\n",
    "(c=3, h=10, w=10) ⇒ (c=100, h=10, w=10) : (out_channels=100, kernel_size=(5, 5), padding=(2, 2))\n",
    "\n",
    "(c=3, h=10, w=10) ⇒ (c=23, h=12, w=12) : (out_channels=23, kernel_size=(5, 5), padding=(3, 3))\n",
    "\n",
    "(c=3, h=10, w=10) ⇒ (c=5, h=24, w=24) : (out_channels=5, kernel_size=(5, 5), padding=(9, 9))\n",
    "\n",
    "Using Kernel size of 5×3:\n",
    "\n",
    "(c=3, h=10, w=10) ⇒ (c=10, h=8, w=8) : (out_channels=10, kernel_size=(5, 3), padding=(0, 1))\n",
    "\n",
    "(c=3, h=10, w=10) ⇒ (c=100, h=10, w=10) : (out_channels=100, kernel_size=(5, 3), padding=(1, 2))\n",
    "\n",
    "(c=3, h=10, w=10) ⇒ (c=23, h=12, w=12) : (out_channels=23, kernel_size=(5, 3), padding=(2, 3))\n",
    "\n",
    "(c=3, h=10, w=10) ⇒ (c=5, h=24, w=24) : (out_channels=5, kernel_size=(5, 3), padding=(8, 9))\n",
    "\n",
    "Determine the kernel that requires the smallest padding size to make the following mappings possible:\n",
    "\n",
    "(c=3, h=10, w=10) ⇒ (c=10, h=9, w=7) : (out_channels=10, kernel_size=(2, 4), padding=(0, 0))\n",
    "\n",
    "(c=3, h=10, w=10) ⇒ (c=22, h=10, w=10) : (out_channels=22, kernel_size=(1, 1), padding=(0, 0))"
   ]
  },
  {
   "cell_type": "code",
   "execution_count": null,
   "metadata": {},
   "outputs": [],
   "source": []
  }
 ],
 "metadata": {
  "kernelspec": {
   "display_name": "Python 3",
   "language": "python",
   "name": "python3"
  },
  "language_info": {
   "codemirror_mode": {
    "name": "ipython",
    "version": 3
   },
   "file_extension": ".py",
   "mimetype": "text/x-python",
   "name": "python",
   "nbconvert_exporter": "python",
   "pygments_lexer": "ipython3",
   "version": "3.7.3"
  }
 },
 "nbformat": 4,
 "nbformat_minor": 2
}
