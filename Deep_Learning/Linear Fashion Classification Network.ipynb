{
 "cells": [
  {
   "cell_type": "markdown",
   "metadata": {},
   "source": [
    "A simple linear network to predict different fashion items (shirts, shoes, etc.)"
   ]
  },
  {
   "cell_type": "code",
   "execution_count": 1,
   "metadata": {
    "colab": {
     "base_uri": "https://localhost:8080/",
     "height": 34
    },
    "colab_type": "code",
    "id": "HewvkZ9rdFJp",
    "outputId": "3b6abc9c-ef20-4982-aefa-0e2f33fe5b44"
   },
   "outputs": [],
   "source": [
    "import torch\n",
    "import torch.nn as nn\n",
    "import torch.nn.functional as F\n",
    "import torch.optim as optim\n",
    "from torch.utils.data import Dataset, DataLoader\n",
    "import numpy as np\n",
    "import matplotlib.pyplot as plt\n",
    "from tqdm import tqdm\n",
    "from torchvision import transforms, utils, datasets"
   ]
  },
  {
   "cell_type": "code",
   "execution_count": 3,
   "metadata": {
    "colab": {
     "base_uri": "https://localhost:8080/",
     "height": 34
    },
    "colab_type": "code",
    "id": "v1KsJZwdejFj",
    "outputId": "b2275083-3cca-4bc0-9b2a-a319726175e3"
   },
   "outputs": [
    {
     "name": "stdout",
     "output_type": "stream",
     "text": [
      "Downloading http://fashion-mnist.s3-website.eu-central-1.amazonaws.com/train-images-idx3-ubyte.gz\n",
      "Downloading http://fashion-mnist.s3-website.eu-central-1.amazonaws.com/train-labels-idx1-ubyte.gz\n",
      "Downloading http://fashion-mnist.s3-website.eu-central-1.amazonaws.com/t10k-images-idx3-ubyte.gz\n",
      "Downloading http://fashion-mnist.s3-website.eu-central-1.amazonaws.com/t10k-labels-idx1-ubyte.gz\n",
      "Processing...\n",
      "Done!\n"
     ]
    },
    {
     "name": "stderr",
     "output_type": "stream",
     "text": [
      "loss:0.0560: 100%|██████████| 1000/1000 [00:04<00:00, 203.14it/s]\n"
     ]
    }
   ],
   "source": [
    "#Very simple linear sequential network with only a few layers.\n",
    "class LinearNetwork(nn.Module):\n",
    "    def __init__(self, dataset):\n",
    "        super(LinearNetwork, self).__init__()\n",
    "        x, y = dataset[0] \n",
    "        c, h, w = x.size()\n",
    "        out = y.size(0)\n",
    "        \n",
    "        self.net = nn.Sequential(nn.Linear(c * h * w, 1000),nn.Sigmoid(),nn.Linear(1000,2000),nn.Sigmoid(),nn.Linear(2000,out))\n",
    "        \n",
    "    def forward(self, x):\n",
    "        n, c, h, w = x.size()\n",
    "        flattened = x.view(n, c* h * w)\n",
    "        return self.net(flattened)\n",
    "\n",
    "#A class for getting all of the data\n",
    "class FashionMNISTProcessedDataset(Dataset):\n",
    "    def __init__(self,root, train=True):\n",
    "        self.data = datasets.FashionMNIST(root, train=train, transform=transforms.ToTensor(), download = True)\n",
    "        self.e = torch.eye(10)\n",
    "    \n",
    "    def __getitem__(self, i):\n",
    "        x, y = self.data[i]\n",
    "        return x, self.e[y].float()\n",
    "    \n",
    "    def __len__(self):\n",
    "        return 5 #len(self.data)\n",
    "\n",
    "#Get the data\n",
    "train_dataset = FashionMNISTProcessedDataset('/tmp/fashionmnist', train=True)\n",
    "val_dataset = FashionMNISTProcessedDataset('/tmp/fashionmnist', train=False)\n",
    "\n",
    "#Initialize the model, loss function and optimizer\n",
    "model = LinearNetwork(train_dataset)\n",
    "model = model.cuda()\n",
    "objective = torch.nn.MSELoss()\n",
    "optimizer = optim.SGD(model.parameters(), lr=1e-4)\n",
    "\n",
    "#Get a dataloader to make batches of data\n",
    "train_loader = DataLoader(train_dataset, batch_size=5, pin_memory=True)\n",
    "val_loader = DataLoader(val_dataset, batch_size=5, pin_memory=True)\n",
    "\n",
    "#Create lists for storing information\n",
    "losses = []\n",
    "val_losses = []\n",
    "loop = tqdm(total=len(train_loader)*1000, position=0)\n",
    "\n",
    "#Do 1000 epochs and keep track of the information\n",
    "for epoch in range(1000):\n",
    "    \n",
    "    #Load the data\n",
    "    for x, y_truth in train_loader:\n",
    "        x, y_truth = x.cuda(async=True), y_truth.cuda(async=True) \n",
    "        \n",
    "        #Get the predicted value and actual value\n",
    "        optimizer.zero_grad()\n",
    "        y_hat = model(x)\n",
    "        loss = objective(y_hat, y_truth)\n",
    "        \n",
    "        #Append the loss and update the update bar\n",
    "        losses.append(loss)\n",
    "        loop.set_description('loss:{:.4f}'.format(loss.item()))\n",
    "        loop.update(1)\n",
    "        \n",
    "        #Update the model\n",
    "        loss.backward()\n",
    "        optimizer.step()\n",
    "    \n",
    "    #A validation loop \n",
    "    for x, y_truth in val_loader:\n",
    "        x, y_truth = x.cuda(async=True), y_truth.cuda(async=True)\n",
    "        \n",
    "        #Check the loss on our validation loop\n",
    "        y_hat = model(x)\n",
    "        loss = objective(y_hat, y_truth)\n",
    "        \n",
    "        val_losses.append(loss)\n",
    "\n",
    "loop.close()"
   ]
  },
  {
   "cell_type": "code",
   "execution_count": 4,
   "metadata": {
    "colab": {
     "base_uri": "https://localhost:8080/",
     "height": 361
    },
    "colab_type": "code",
    "id": "336l2tdxekiV",
    "outputId": "f2ab8713-c728-4be2-e8df-5a3071cd1e96"
   },
   "outputs": [
    {
     "data": {
      "image/png": "[encoded data removed]",
      "text/plain": [
       "<Figure size 432x288 with 1 Axes>"
      ]
     },
     "metadata": {},
     "output_type": "display_data"
    }
   ],
   "source": [
    "#Plot the losses that we observed\n",
    "plt.plot(losses)\n",
    "plt.plot(val_losses)\n",
    "plt.xlabel(\"Epochs\")\n",
    "plt.ylabel(\"Loss Mean Square Error\")\n",
    "plt.show()"
   ]
  },
  {
   "cell_type": "code",
   "execution_count": 0,
   "metadata": {
    "colab": {},
    "colab_type": "code",
    "id": "hf0RwuERhSlu"
   },
   "outputs": [],
   "source": []
  }
 ],
 "metadata": {
  "accelerator": "GPU",
  "colab": {
   "collapsed_sections": [],
   "name": "CS501rlab2.ipynb",
   "provenance": [],
   "version": "0.3.2"
  },
  "kernelspec": {
   "display_name": "Python 3",
   "language": "python",
   "name": "python3"
  },
  "language_info": {
   "codemirror_mode": {
    "name": "ipython",
    "version": 3
   },
   "file_extension": ".py",
   "mimetype": "text/x-python",
   "name": "python",
   "nbconvert_exporter": "python",
   "pygments_lexer": "ipython3",
   "version": "3.7.3"
  }
 },
 "nbformat": 4,
 "nbformat_minor": 1
}
