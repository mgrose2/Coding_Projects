{
 "cells": [
  {
   "cell_type": "code",
   "execution_count": null,
   "metadata": {},
   "outputs": [],
   "source": [
    "import numpy as np\n",
    "import matplotlib.pyplot as plt\n",
    "import scipy.linalg as la"
   ]
  },
  {
   "cell_type": "code",
   "execution_count": null,
   "metadata": {},
   "outputs": [],
   "source": [
    "%matplotlib inline"
   ]
  },
  {
   "cell_type": "markdown",
   "metadata": {},
   "source": [
    "# Problem 1\n",
    "\n",
    "Let $u(x) = sin((x + \\pi)^2 - 1)$. Use (1.3) - (1.6) to approximate $\\frac{1}{2}\n",
    "u'' − u'$ at the grid points where $a = 0$, $b = 1$, and $n = 10$. Graph the result."
   ]
  },
  {
   "cell_type": "code",
   "execution_count": null,
   "metadata": {},
   "outputs": [],
   "source": []
  },
  {
   "cell_type": "markdown",
   "metadata": {},
   "source": [
    "# Problem 2\n",
    "\n",
    "Use equation (1.9) to solve the singularly perturbed BVP (1.7) with $\\epsilon = 1/10, f(x) = -1, \\alpha=1,$ and $\\beta=3$ on a grid with $n=30$ subintervals. Graph the solution. This BVP is called singularly perturbed because of the location of the parameter $\\epsilon$. For $\\epsilon=0$ the ODE has a drastically different character - it then becomes first order, and can no longer support two boundary conditions."
   ]
  },
  {
   "cell_type": "code",
   "execution_count": null,
   "metadata": {},
   "outputs": [],
   "source": []
  },
  {
   "cell_type": "markdown",
   "metadata": {},
   "source": [
    "# Problem 3\n",
    "\n",
    "Visualize the $\\mathcal{O}(h^2)$ convergence of this finite difference method by producing a loglog plot similar to Figure 1.2, except in the case $\\epsilon=.1$. Implement a function `singular_bvp` to compute the finite difference solution to (1.7). Using $n = 5 \\times 2^0,5 \\times 2^1, \\dots ,5 \\times 2^9$ subintervals, compute 10 approximate solutions.\n",
    "\n",
    "To produce the plot, treat the approximation with $n = 5 \\times 2^9$ subintervals as the \"true solution\", and measure the error for the other approximations against it. Note that, since the number of subintervals for each approximation is a multiple of 2, we can compute the $L_{\\infty}$ error for the $n=5 \\times 2^j$ approximation by using the `step` argument in the array slicing syntax:\n",
    "\n",
    "    # best approximation\n",
    "    sol_best = singular_bvp(eps,alpha,beta,f,5*(2**9))\n",
    "\n",
    "    # approximation with 5*(2^j) intervals\n",
    "    sol_approx = singular_bvp(eps,alpha,beta,f,5*(2**j))\n",
    "\n",
    "    # approximation error\n",
    "    error = np.max(np.abs(sol_approx - sol_best[::2**(9-j)]))\n"
   ]
  },
  {
   "cell_type": "code",
   "execution_count": null,
   "metadata": {},
   "outputs": [],
   "source": [
    "def singular_bvp(eps,alpha,beta,f,n):\n",
    "    \"\"\"Solves the singularly perturbed BVP (1.7) using finite differences.\"\"\"\n",
    "    pass"
   ]
  },
  {
   "cell_type": "code",
   "execution_count": null,
   "metadata": {},
   "outputs": [],
   "source": []
  },
  {
   "cell_type": "markdown",
   "metadata": {},
   "source": [
    "# Problem 4\n",
    "\n",
    "Extend your finite difference code to the case of a general second order linear BVP with boundary conditions:\n",
    "\n",
    "\\begin{align*}\n",
    "\t&{ } a_1(x)y'' +a_2(x)y'+ a_3(x) y = f(x), \\quad x \\in (a,b),\\\\\n",
    "\t&{ } y(a) = \\alpha, \\quad y(b) = \\beta.\n",
    "\\end{align*}\n",
    "\n",
    "Use your code to solve the boundary value problem\n",
    "\n",
    "\\begin{align*}\n",
    "\t\\epsilon y'' - 4(\\pi - x^2)y = \\cos x, \\\\\n",
    "\ty(0) = 0, \\quad y(\\pi/2) = 1,\n",
    "\\end{align*}\n",
    "\n",
    "for $\\epsilon = 0.1$ on a grid with $n=30$ subintervals."
   ]
  },
  {
   "cell_type": "code",
   "execution_count": null,
   "metadata": {},
   "outputs": [],
   "source": [
    "def bvp(a,b,alpha,beta,a1,a2,a3,f,n):\n",
    "    \"\"\"Computes the solution to the BVP:\n",
    "        \n",
    "        a1(x)y'' + a2(x)y' + a3(x)y = f\n",
    "        y(a) = α, y(b) = β\n",
    "        \n",
    "       using finite differences.\"\"\"\n",
    "    pass"
   ]
  },
  {
   "cell_type": "code",
   "execution_count": null,
   "metadata": {},
   "outputs": [],
   "source": []
  },
  {
   "cell_type": "markdown",
   "metadata": {},
   "source": [
    "# Problem 5\n",
    "\n",
    "Numerically solve the boundary value problem\n",
    "\n",
    "\\begin{align*}\n",
    "\t\\epsilon y'' + xy' = -\\epsilon \\pi^2 \\cos(\\pi x) - \\pi x \\sin(\\pi x), \\\\\n",
    "\ty(-1) = -2, \\quad y(1) = 0,\n",
    "\\end{align*}\n",
    "\n",
    "for $\\epsilon = 0.1, 0.01,$ and $0.001$. Use a grid with $n=150$ subintervals."
   ]
  },
  {
   "cell_type": "code",
   "execution_count": null,
   "metadata": {},
   "outputs": [],
   "source": []
  },
  {
   "cell_type": "markdown",
   "metadata": {},
   "source": [
    "# Problem 6\n",
    "\n",
    "Numerically solve the boundary value problem\n",
    "\n",
    "\\begin{align*}\n",
    "\t(\\epsilon +x^2)y'' + 4xy' + 2y = 0, \\\\\n",
    "\ty(-1) = 1/(1+\\epsilon), \\quad y(1) = 1/(1+\\epsilon),\n",
    "\\end{align*}\n",
    "\n",
    "for $\\epsilon = 0.05, 0.02$. Use a grid with $n=150$ subintervals."
   ]
  },
  {
   "cell_type": "code",
   "execution_count": null,
   "metadata": {},
   "outputs": [],
   "source": []
  }
 ],
 "metadata": {
  "kernelspec": {
   "display_name": "Python 3",
   "language": "python",
   "name": "python3"
  },
  "language_info": {
   "codemirror_mode": {
    "name": "ipython",
    "version": 3
   },
   "file_extension": ".py",
   "mimetype": "text/x-python",
   "name": "python",
   "nbconvert_exporter": "python",
   "pygments_lexer": "ipython3",
   "version": "3.7.3"
  }
 },
 "nbformat": 4,
 "nbformat_minor": 2
}
