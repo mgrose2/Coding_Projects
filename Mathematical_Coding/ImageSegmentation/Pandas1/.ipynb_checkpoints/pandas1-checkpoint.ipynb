{
 "cells": [
  {
   "cell_type": "markdown",
   "metadata": {
    "colab_type": "text",
    "id": "hr6QvWC1sVno"
   },
   "source": [
    "# Pandas 1\n",
    "\n",
    "## Name Mark Rose\n",
    "\n",
    "## Class Section 2\n",
    "\n",
    "## Date 10/3/19"
   ]
  },
  {
   "cell_type": "code",
   "execution_count": 25,
   "metadata": {
    "colab": {},
    "colab_type": "code",
    "id": "D1pxi6sWEcmJ"
   },
   "outputs": [],
   "source": [
    "import numpy as np\n",
    "import pandas as pd\n",
    "#from google.colab import files"
   ]
  },
  {
   "cell_type": "code",
   "execution_count": 26,
   "metadata": {
    "colab": {
     "base_uri": "https://localhost:8080/",
     "height": 105,
     "resources": {
      "http://localhost:8080/nbextensions/google.colab/files.js": {
       "data": "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",
       "headers": [
        [
         "content-type",
         "application/javascript"
        ]
       ],
       "ok": true,
       "status": 200,
       "status_text": ""
      }
     }
    },
    "colab_type": "code",
    "id": "Z-nLj90_T0Yq",
    "outputId": "803e9e82-fffb-4627-973b-1b4e19d5624a"
   },
   "outputs": [],
   "source": [
    "# Files needed\n",
    "#     budget.csv\n",
    "#     crime_data.csv\n",
    "#uploaded = files.upload()            "
   ]
  },
  {
   "cell_type": "markdown",
   "metadata": {
    "colab_type": "text",
    "id": "Y8nzrZCaE4bn"
   },
   "source": [
    "# Problem 1"
   ]
  },
  {
   "cell_type": "code",
   "execution_count": 34,
   "metadata": {
    "colab": {},
    "colab_type": "code",
    "id": "3_MnldIDExPm"
   },
   "outputs": [
    {
     "data": {
      "text/plain": [
       "(Index(['I', 'II', 'III', 'IV', 'V', 'VI'], dtype='object'),\n",
       " Index(['A', 'B', 'C', 'D', 'E'], dtype='object'),\n",
       " array([[0.03094236, 0.34324096, 0.79814401, 0.11419813, 0.57895069],\n",
       "        [0.99679612, 0.36594816, 0.30983696, 0.65429932, 0.5482303 ],\n",
       "        [0.12478118, 0.63039628, 0.26069892, 0.54968416, 0.09708306],\n",
       "        [0.10562291, 0.89186442, 0.31580593, 0.64626822, 0.98185396],\n",
       "        [0.16586869, 0.05318401, 0.11147051, 0.09991609, 0.51306218],\n",
       "        [0.20423181, 0.68433178, 0.77506391, 0.53787808, 0.10581055]]))"
      ]
     },
     "execution_count": 34,
     "metadata": {},
     "output_type": "execute_result"
    }
   ],
   "source": [
    "def random_dataframe(d=None):\n",
    "    \"\"\"\n",
    "    Generate a dictionary.\n",
    "    Reset labels and return.\n",
    "\n",
    "    Parameters:\n",
    "    d (dict): dictionary to initialize DataFrame\n",
    "\n",
    "    Return:\n",
    "    csv: csv of DataFrame\n",
    "    \"\"\"\n",
    "    #If there is a dictionary make it into a data frame\n",
    "    if d != None:\n",
    "        df = pd.DataFrame(d)\n",
    "    else:\n",
    "        #If there is not a dictionary, make a random array and label the columns and rows\n",
    "        a = np.random.rand(6,5)\n",
    "        col = ['A','B','C','D','E']\n",
    "        row = ['I','II','III','IV','V','VI']\n",
    "        df = pd.DataFrame(a,columns=col,index=row)\n",
    "    return(df.index,df.columns,df.values)\n",
    "        \n",
    "    raise NotImplementedError(\"Problem 1 Incomplete\")\n",
    "random_dataframe()"
   ]
  },
  {
   "cell_type": "markdown",
   "metadata": {
    "colab_type": "text",
    "id": "FcGE9Qq5scpv"
   },
   "source": [
    "# Problem 2"
   ]
  },
  {
   "cell_type": "code",
   "execution_count": 28,
   "metadata": {
    "colab": {},
    "colab_type": "code",
    "id": "bZIdjL74RuuO"
   },
   "outputs": [
    {
     "data": {
      "text/plain": [
       "array([[0.0, 0.0, 0.0, 0.0, 0.0, 0.0, 0.0, 0.0],\n",
       "       [0.0, 0.0, 0.0, 0.0, 0.0, 0.0, 0.0, 0.0],\n",
       "       [0.0, 0.0, 0.0, 0.0, 0.0, 0.0, 0.0, 0.0],\n",
       "       [0.0, 0.0, 0.0, 0.0, 0.0, 0.0, 0.0, 0.0],\n",
       "       [0.0, 0.0, 0.0, 0.0, 0.0, 0.0, 0.0, 0.0],\n",
       "       [174.0, '11/18', 800.0, 90.0, 37.0, 30.0, 23.0, 8.0],\n",
       "       [174.0, '4/15', 800.0, 82.0, 35.0, nan, 26.0, nan],\n",
       "       [172.0, '8/18', 800.0, 82.0, 31.0, 30.0, 26.0, 8.0],\n",
       "       [171.0, '5/15', 800.0, 82.0, 40.0, nan, 23.0, nan],\n",
       "       [171.0, '7/15', 800.0, 82.0, 35.0, nan, 27.0, nan],\n",
       "       [171.0, '6/17', 800.0, 80.0, 30.0, 31.0, 22.0, nan],\n",
       "       [170.0, '10/18', 800.0, 90.0, 34.0, 33.0, nan, 8.0],\n",
       "       [170.0, '7/16', 800.0, 85.0, 34.0, nan, 25.0, nan],\n",
       "       [167.0, '3/16', 800.0, 92.0, 30.0, nan, 29.0, nan],\n",
       "       [163.0, '5/16', 800.0, 85.0, 30.0, nan, nan, nan],\n",
       "       [163.0, '1/15', 800.0, 90.0, 31.0, nan, 25.0, nan],\n",
       "       [161.0, '6/16', 800.0, 85.0, 30.0, nan, 24.0, nan],\n",
       "       [160.0, '12/16', 800.0, 91.0, 32.0, 28.0, 23.0, nan],\n",
       "       [158.0, '1/16', 800.0, 92.0, nan, nan, 22.0, nan],\n",
       "       [157.0, '4/18', 800.0, 82.0, nan, 32.0, 21.0, 8.0],\n",
       "       [155.0, '8/17', 800.0, 80.0, nan, 33.0, 26.0, 8.0],\n",
       "       [155.0, '11/15', 800.0, 92.0, 33.0, nan, nan, nan],\n",
       "       [153.0, '9/17', 800.0, 80.0, 31.0, 30.0, 27.0, 8.0],\n",
       "       [152.0, '12/17', 800.0, 95.0, 30.0, 46.0, nan, 8.0],\n",
       "       [152.0, '9/16', 800.0, 85.0, 39.0, nan, 29.0, nan],\n",
       "       [152.0, '3/18', 800.0, 95.0, 32.0, 34.0, 22.0, 8.0],\n",
       "       [150.0, '2/15', 800.0, 90.0, 34.0, nan, 25.0, nan],\n",
       "       [148.0, '1/17', 800.0, 91.0, 40.0, 31.0, nan, nan],\n",
       "       [148.0, '2/17', 800.0, 91.0, 34.0, 28.0, 27.0, nan],\n",
       "       [146.0, '2/18', 800.0, 95.0, 31.0, 32.0, 23.0, 8.0],\n",
       "       [145.0, '3/17', 800.0, 91.0, 30.0, 29.0, 28.0, nan],\n",
       "       [145.0, '9/15', 800.0, 82.0, 40.0, nan, 27.0, nan],\n",
       "       [145.0, '3/15', 800.0, 90.0, 32.0, nan, 29.0, nan],\n",
       "       [143.0, '11/17', 800.0, 95.0, 38.0, 34.0, 21.0, 8.0],\n",
       "       [141.0, '6/15', 800.0, 82.0, 37.0, nan, 27.0, nan],\n",
       "       [140.0, '7/18', 800.0, 82.0, 31.0, 30.0, 24.0, 8.0],\n",
       "       [140.0, '12/15', 800.0, 92.0, 34.0, nan, 24.0, nan],\n",
       "       [137.0, '9/18', 800.0, 82.0, nan, 31.0, 28.0, 8.0],\n",
       "       [137.0, '8/15', 800.0, 82.0, 36.0, nan, 20.0, nan],\n",
       "       [137.0, '1/18', 800.0, 95.0, 36.0, 34.0, 23.0, 8.0],\n",
       "       [136.0, '2/16', 800.0, 92.0, 36.0, nan, 22.0, nan],\n",
       "       [135.0, '12/18', 800.0, 90.0, 34.0, 32.0, 22.0, 8.0],\n",
       "       [134.0, '5/18', 800.0, 82.0, 39.0, 35.0, 24.0, 8.0],\n",
       "       [133.0, '10/16', 800.0, 91.0, 36.0, nan, 23.0, nan],\n",
       "       [131.0, '8/16', 800.0, 85.0, 38.0, nan, 23.0, nan],\n",
       "       [131.0, '7/17', 800.0, 80.0, 31.0, 29.0, nan, nan],\n",
       "       [130.0, '4/16', 800.0, 85.0, 31.0, nan, 22.0, nan],\n",
       "       [130.0, '11/16', 800.0, 91.0, 34.0, nan, 21.0, nan]], dtype=object)"
      ]
     },
     "execution_count": 28,
     "metadata": {},
     "output_type": "execute_result"
    }
   ],
   "source": [
    "# Prob 2\n",
    "def prob2(file='budget.csv'):\n",
    "    \"\"\"\n",
    "    Read in file as DataFrame. Manipulate data using\n",
    "    Pandas commmands\n",
    "    \n",
    "    Parameters:\n",
    "        file (str): name of datafile\n",
    "        \n",
    "    Return:\n",
    "        values (ndarray): values of DataFrame\n",
    "    \"\"\"\n",
    "    #Read the file\n",
    "    df = pd.read_csv(file)\n",
    "    \n",
    "    #Changing the food column to be at the begnning\n",
    "    food = df['Groceries']\n",
    "    df.drop(labels=['Groceries'], axis=1,inplace = True)\n",
    "    df.insert(0, 'Groceries', food)\n",
    "    \n",
    "    #Sort the values, change the rent, and then change the first 5 values\n",
    "    df = df.sort_values('Groceries',ascending=False)\n",
    "    df['Rent'] = 800.0\n",
    "    df[:5] = 0.0\n",
    "    return(np.array(df))\n",
    "    raise NotImplementedError(\"Problem 2 Incomplete\")\n",
    "prob2()"
   ]
  },
  {
   "cell_type": "markdown",
   "metadata": {
    "colab_type": "text",
    "id": "qVHAwFRRseXh"
   },
   "source": [
    "# Problem 3"
   ]
  },
  {
   "cell_type": "code",
   "execution_count": 29,
   "metadata": {
    "colab": {},
    "colab_type": "code",
    "id": "35VAshdqZhVD"
   },
   "outputs": [
    {
     "data": {
      "text/plain": [
       "(751.0416666666666, 30.5)"
      ]
     },
     "execution_count": 29,
     "metadata": {},
     "output_type": "execute_result"
    }
   ],
   "source": [
    "def prob3(file='budget.csv'):\n",
    "    \"\"\"\n",
    "    Read in data as Pandas DataFrame.\n",
    "    Manipulate data and return DataFrame values.\n",
    "    \n",
    "    Parameters:\n",
    "        file (str): data file\n",
    "    \n",
    "    Return:\n",
    "        values (ndarray): values of DataFrame\n",
    "    \"\"\"\n",
    "    #Read in the data farme\n",
    "    df = pd.read_csv(file)\n",
    "    \n",
    "    #Fill in the null values with 0 and create two new columns\n",
    "    df = df.fillna(0.0)\n",
    "    live_exp_list = ['Rent','Groceries','Gas','Utilities']\n",
    "    other_list = ['Dining Out','Out With Friends','Netflix']\n",
    "    df['Living Expenses'] = df[live_exp_list].sum(axis=1)\n",
    "    df['Other'] = df[other_list].sum(axis=1)\n",
    "    \n",
    "    #Get the correlation coeficient and return the mean\n",
    "    corr_mat = df.corr()\n",
    "    live_cor = corr_mat['Living Expenses'][live_exp_list].idxmax()\n",
    "    oth_cor = corr_mat['Other'][other_list].idxmax()\n",
    "    return(df[live_cor].mean(),df[oth_cor].mean())\n",
    "    raise NotImplementedError(\"Problem 3 Incomplete\")\n",
    "prob3()"
   ]
  },
  {
   "cell_type": "markdown",
   "metadata": {
    "colab_type": "text",
    "id": "4pfN6PbxsgC3"
   },
   "source": [
    "# Problem 4"
   ]
  },
  {
   "cell_type": "code",
   "execution_count": 35,
   "metadata": {
    "colab": {},
    "colab_type": "code",
    "id": "TAavKLA17LsN"
   },
   "outputs": [
    {
     "name": "stderr",
     "output_type": "stream",
     "text": [
      "/home/mark/anaconda3/lib/python3.7/site-packages/ipykernel_launcher.py:22: UserWarning: Boolean Series key will be reindexed to match DataFrame index.\n"
     ]
    },
    {
     "data": {
      "text/plain": [
       "array([21460, 23040, 22520, 21010, 19310, 18690, 18980, 20613, 20096,\n",
       "       20680, 21500, 23440, 24700, 23760, 24530, 23330, 21610, 19650])"
      ]
     },
     "execution_count": 35,
     "metadata": {},
     "output_type": "execute_result"
    }
   ],
   "source": [
    "def prob4(file='crime_data.csv'):\n",
    "    \"\"\"\n",
    "    Read in crime data and use SQL queries to gather certain data.\n",
    "    \n",
    "    Parameters:\n",
    "        file (str): data\n",
    "    \n",
    "    Return:\n",
    "        values (ndarray): values of DataFrame\n",
    "    \"\"\"\n",
    "    #Get the data\n",
    "    df = pd.read_csv(file)\n",
    "    df = df.set_index('Year')\n",
    "    \n",
    "    #Create a new column rate\n",
    "    df['Rate'] = df['Total']/df['Population']\n",
    "    vil_avg = df['Violent'].mean()\n",
    "    \n",
    "    #Create masks and get the murders for those years\n",
    "    mask1 = df['Rate'] > .05\n",
    "    mask2 = df['Violent'] > vil_avg\n",
    "    murder_tracker = df[mask1][mask2][['Murder']]\n",
    "    return(murder_tracker.values.squeeze())\n",
    "prob4()\n",
    "    #raise NotImplementedError(\"Problem 4 Incomplete\")"
   ]
  },
  {
   "cell_type": "markdown",
   "metadata": {
    "colab_type": "text",
    "id": "I663KesNsjMK"
   },
   "source": [
    "# Problem 5"
   ]
  },
  {
   "cell_type": "code",
   "execution_count": 24,
   "metadata": {
    "colab": {},
    "colab_type": "code",
    "id": "KGxh0mpSDLDD"
   },
   "outputs": [
    {
     "name": "stderr",
     "output_type": "stream",
     "text": [
      "/home/mark/anaconda3/lib/python3.7/site-packages/numpy/core/fromnumeric.py:56: FutureWarning: \n",
      "The current behaviour of 'Series.argmax' is deprecated, use 'idxmax'\n",
      "instead.\n",
      "The behavior of 'argmax' will be corrected to return the positional\n",
      "maximum in the future. For now, use 'series.values.argmax' or\n",
      "'np.argmax(np.array(values))' to get the position of the maximum\n",
      "row.\n",
      "  return getattr(obj, method)(*args, **kwds)\n"
     ]
    },
    {
     "data": {
      "text/plain": [
       "('Property',\n",
       " array([ 911740,  911706,  909023,  891407,  859030,  862220,  974402,\n",
       "         855856,  860853, 1023201, 1037050,  855088,  910090,  951710,\n",
       "        1099210, 1113180, 1054860, 1126970, 1135610, 1092740]),\n",
       " 0.8716622376104708)"
      ]
     },
     "execution_count": 24,
     "metadata": {},
     "output_type": "execute_result"
    }
   ],
   "source": [
    "def prob5(file = 'crime_data.csv'):\n",
    "    \"\"\"\n",
    "    Read in crime data and use pandas to answer questions.\n",
    "    \n",
    "    Parameters:\n",
    "        file (str): data\n",
    "    \n",
    "    Return:\n",
    "        ans_1 (list): answer to Question 1\n",
    "        ans_2 (ndarray): answer to Question 2\n",
    "        ans_3 (float): answer to Question 3\n",
    "    \"\"\"\n",
    "    #Question one\n",
    "    data = pd.read_csv(file)\n",
    "    my_list = data.columns[(data.mean()>1500000)][2:]\n",
    "    \n",
    "    #Get the correlation between the three crimes\n",
    "    corr = data[my_list].corr()\n",
    "    prop_max = data['Property'].max()\n",
    "    larc_max = data[\"Larceny\"].max()\n",
    "    ans1 = 'Property'\n",
    "    \n",
    "    #Question 2 get the ammount of aggravated assaults\n",
    "    new_data = data[data['Year']>=2000]\n",
    "    new_data = data.sort_values('Murder',ascending=True)\n",
    "    agg_as = new_data['Aggravated Assault']\n",
    "    agg_as = agg_as[agg_as>=850000]\n",
    "    ans2 = agg_as.values\n",
    "    \n",
    "    #Question 3 get the highest year of crime and get the percentage of that\n",
    "    S = 10\n",
    "    N = int(len(data)/S)\n",
    "    \n",
    "    #Split the decades\n",
    "    frames = [ data.iloc[i*S:(i+1)*S].copy() for i in range(N+1) ]\n",
    "    dec_crime = []\n",
    "    for dec in frames:\n",
    "        dec_crime.append(dec['Total'].mean())\n",
    "    \n",
    "    #Get the highest crime and its percentage of the total\n",
    "    my_dec = frames[np.argmax(dec_crime)]\n",
    "    my_crimes = ['Violent','Property','Murder','Forcible Rape','Robbery','Aggravated Assault','Burglary','Larceny','Vehicle Theft']\n",
    "    high_crime = np.argmax(my_dec[my_crimes].mean())\n",
    "    ans3 = float(my_dec[high_crime].mean()/my_dec['Total'].mean())\n",
    "    return(ans1,ans2,ans3)\n",
    "prob5()"
   ]
  },
  {
   "cell_type": "code",
   "execution_count": null,
   "metadata": {},
   "outputs": [],
   "source": []
  }
 ],
 "metadata": {
  "colab": {
   "collapsed_sections": [],
   "name": "pandas1.ipynb",
   "provenance": [],
   "version": "0.3.2"
  },
  "kernelspec": {
   "display_name": "Python 3",
   "language": "python",
   "name": "python3"
  },
  "language_info": {
   "codemirror_mode": {
    "name": "ipython",
    "version": 3
   },
   "file_extension": ".py",
   "mimetype": "text/x-python",
   "name": "python",
   "nbconvert_exporter": "python",
   "pygments_lexer": "ipython3",
   "version": "3.7.3"
  }
 },
 "nbformat": 4,
 "nbformat_minor": 1
}
