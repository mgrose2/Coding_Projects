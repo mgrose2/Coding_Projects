{
 "cells": [
  {
   "cell_type": "markdown",
   "metadata": {
    "colab_type": "text",
    "id": "tGl44nusP9Cy"
   },
   "source": [
    "# Pandas 4: DatetimeIndex\n",
    "\n",
    "## Name\n",
    "\n",
    "## Class\n",
    "\n",
    "## Date"
   ]
  },
  {
   "cell_type": "code",
   "execution_count": 0,
   "metadata": {
    "colab": {},
    "colab_type": "code",
    "id": "ooRkQNByp_-O"
   },
   "outputs": [],
   "source": [
    "from google.colab import files\n",
    "# Files needed\n",
    "#     DJIA.csv\n",
    "#     paychecks.csv\n",
    "#     finances.csv\n",
    "#     website_traffic.csv\n",
    "uploaded = files.upload()"
   ]
  },
  {
   "cell_type": "code",
   "execution_count": 0,
   "metadata": {
    "colab": {},
    "colab_type": "code",
    "id": "ZhNHU10PyfuC"
   },
   "outputs": [],
   "source": [
    "import numpy as np\n",
    "import pandas as pd\n",
    "from matplotlib import pyplot as plt"
   ]
  },
  {
   "cell_type": "markdown",
   "metadata": {
    "colab_type": "text",
    "id": "civIOQkeyMI2"
   },
   "source": [
    "# Problem 1"
   ]
  },
  {
   "cell_type": "code",
   "execution_count": 0,
   "metadata": {
    "colab": {},
    "colab_type": "code",
    "id": "34RGRyXmxoPQ"
   },
   "outputs": [],
   "source": [
    "def prob1():\n",
    "    \"\"\"\n",
    "    Create DatetimeIndex for stock market data\n",
    "\n",
    "    Returns:\n",
    "        df (DataFrame): updated DataFrame of stock market data\n",
    "    \"\"\"\n",
    "    raise NotImplementedError(\"Problem 1 Incomplete\")"
   ]
  },
  {
   "cell_type": "markdown",
   "metadata": {
    "colab_type": "text",
    "id": "7aa-B6ZjPwNb"
   },
   "source": [
    "# Problem 2"
   ]
  },
  {
   "cell_type": "code",
   "execution_count": 0,
   "metadata": {
    "colab": {},
    "colab_type": "code",
    "id": "QrfBpqXqydm9"
   },
   "outputs": [],
   "source": [
    "def prob2():\n",
    "    \"\"\"\n",
    "    Create data_range for index of paycheck data\n",
    "\n",
    "    Returns:\n",
    "        df (DataFrame): DataFrame of paycheck data\n",
    "    \"\"\"\n",
    "    raise NotImplementedError(\"Problem 2 Incomplete\")"
   ]
  },
  {
   "cell_type": "markdown",
   "metadata": {
    "colab_type": "text",
    "id": "JlBqcl1EPyFA"
   },
   "source": [
    "# Problem 3"
   ]
  },
  {
   "cell_type": "code",
   "execution_count": 0,
   "metadata": {
    "colab": {},
    "colab_type": "code",
    "id": "K-uqSOSV13Z3"
   },
   "outputs": [],
   "source": [
    "def prob3():\n",
    "    \"\"\"\n",
    "    Create period range as index\n",
    "\n",
    "    Returns:\n",
    "        df (DataFrame): DataFrame of finance data\n",
    "    \"\"\"\n",
    "    raise NotImplementedError(\"Problem 3 Incomplete\")"
   ]
  },
  {
   "cell_type": "markdown",
   "metadata": {
    "colab_type": "text",
    "id": "q03e2ANSPzlI"
   },
   "source": [
    "# Problem 4"
   ]
  },
  {
   "cell_type": "code",
   "execution_count": 0,
   "metadata": {
    "colab": {},
    "colab_type": "code",
    "id": "NRyJ4klbZK1C"
   },
   "outputs": [],
   "source": [
    "def prob4():\n",
    "    \"\"\"\n",
    "    Get average number of users entering a site each\n",
    "    minute and each hour\n",
    "\n",
    "    Returns:\n",
    "        minutes (df): DataFrame containing the number\n",
    "                      of users entering a website each minutes\n",
    "        hours (df): DataFrame containing the number of users\n",
    "                    entering a website each hour\n",
    "    \"\"\"\n",
    "    raise NotImplementedError(\"Problem 4 Incomplete\")    "
   ]
  },
  {
   "cell_type": "markdown",
   "metadata": {
    "colab_type": "text",
    "id": "TwcaLc6xP1Hm"
   },
   "source": [
    "# Problem 5"
   ]
  },
  {
   "cell_type": "code",
   "execution_count": 0,
   "metadata": {
    "colab": {},
    "colab_type": "code",
    "id": "l5ld8pKKZwwG"
   },
   "outputs": [],
   "source": [
    "def prob5():\n",
    "    \"\"\"\n",
    "    Find days with maximum and minimum change in stock price\n",
    "    \n",
    "    Returns:\n",
    "        max_day (<M8[ns]): index of maximum change\n",
    "        min_day (<M8[ns]): index of minimum change\n",
    "    \"\"\"\n",
    "    raise NotImplementedError(\"Problem 5 Incomplete\")"
   ]
  },
  {
   "cell_type": "markdown",
   "metadata": {
    "colab_type": "text",
    "id": "77V0YDOQP203"
   },
   "source": [
    "# Problem 6"
   ]
  },
  {
   "cell_type": "code",
   "execution_count": 0,
   "metadata": {
    "colab": {},
    "colab_type": "code",
    "id": "U2-FaJ3-lUku"
   },
   "outputs": [],
   "source": [
    "def prob6():\n",
    "    \"\"\"\n",
    "    Calculate and plot the rolling and exponential averages\n",
    "    for window and span size 30, 120, and 365\n",
    "\n",
    "    Returns:\n",
    "        mins_roll (list): list of minimum values of rolling average\n",
    "                          for window size 30, 120, and 365\n",
    "        mins_exp (list): list of minimum values of exponential average\n",
    "                         for span size 30, 120, and 365\n",
    "    \"\"\"\n",
    "    raise NotImplementedError(\"Problem 6 Incomplete\")"
   ]
  }
 ],
 "metadata": {
  "colab": {
   "name": "pandas4.ipynb",
   "provenance": [],
   "version": "0.3.2"
  },
  "kernelspec": {
   "display_name": "Python 3",
   "language": "python",
   "name": "python3"
  },
  "language_info": {
   "codemirror_mode": {
    "name": "ipython",
    "version": 3
   },
   "file_extension": ".py",
   "mimetype": "text/x-python",
   "name": "python",
   "nbconvert_exporter": "python",
   "pygments_lexer": "ipython3",
   "version": "3.7.1"
  }
 },
 "nbformat": 4,
 "nbformat_minor": 1
}
