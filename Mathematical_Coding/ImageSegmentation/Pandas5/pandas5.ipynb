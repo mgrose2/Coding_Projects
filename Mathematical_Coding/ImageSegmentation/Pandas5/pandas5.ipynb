{
 "cells": [
  {
   "cell_type": "markdown",
   "metadata": {},
   "source": [
    "# Volume 3: Pandas 5 (GeoPandas) \n",
    "    <Name>\n",
    "    <Class>\n",
    "    <Date>"
   ]
  },
  {
   "cell_type": "code",
   "execution_count": null,
   "metadata": {},
   "outputs": [],
   "source": [
    "import geopandas\n",
    "from matplotlib import pyplot as plt\n",
    "import geoplot.crs as gcrs\n",
    "import geoplot\n",
    "import numpy as np\n",
    "import pandas as pd\n",
    "from shapely.geometry import Point"
   ]
  },
  {
   "cell_type": "markdown",
   "metadata": {},
   "source": [
    "## Problem 1\n",
    "\n",
    "Read in the file *airports.csv* as a pandas dataframe. Convert the dataframe into a geopandas dataframe.\n",
    "\n",
    "Find the distance between the following airports:\n",
    "1. Halifax / CFB Shearwater Heliport (Halifax, Canada) to Murtala Muhammed International Airport (Lagos, Nigeria)\n",
    "2. Don Mueang International Airport (Bangkok, Thailand) and Beijing Capital International Airport (Beijing, China)\n",
    "3. Salt Lake City International Airport (Salt Lake City, USA) and Auckland International Airport (Auckland, New Zealand)"
   ]
  },
  {
   "cell_type": "code",
   "execution_count": null,
   "metadata": {},
   "outputs": [],
   "source": []
  },
  {
   "cell_type": "markdown",
   "metadata": {},
   "source": [
    "## Problem 2\n",
    "Read in the built-in GeoDataFrame *naturalearth_lowres*.\n",
    "Create a GeoDataFrame that only contains information about the southern hemisphere.\n",
    "Use this data to find the country with the smallest and largest area in the southern hemisphere.\n",
    "Dissolve this GeoDataFrame to find the continent with the largest and smallest area in the southern hemisphere."
   ]
  },
  {
   "cell_type": "code",
   "execution_count": null,
   "metadata": {},
   "outputs": [],
   "source": []
  },
  {
   "cell_type": "markdown",
   "metadata": {},
   "source": [
    "## Problem 3\n",
    "\n",
    "Using the built-in GeoDataFrame *naturalearth_lowres* and GeoPlots, create population density plots for Asia and South America.\n",
    "Use Mercator maps."
   ]
  },
  {
   "cell_type": "code",
   "execution_count": null,
   "metadata": {},
   "outputs": [],
   "source": []
  },
  {
   "cell_type": "markdown",
   "metadata": {},
   "source": [
    "## Problem 4\n",
    "\n",
    "Merge the airports GeoDataFrame and the *naturalearth_lowres* GeodataFrame on their spatial data. Use this new GeoDataFrame to find the airport in the country with the smallest population estimate."
   ]
  },
  {
   "cell_type": "code",
   "execution_count": null,
   "metadata": {},
   "outputs": [],
   "source": []
  }
 ],
 "metadata": {
  "kernelspec": {
   "display_name": "Python 3",
   "language": "python",
   "name": "python3"
  },
  "language_info": {
   "codemirror_mode": {
    "name": "ipython",
    "version": 3
   },
   "file_extension": ".py",
   "mimetype": "text/x-python",
   "name": "python",
   "nbconvert_exporter": "python",
   "pygments_lexer": "ipython3",
   "version": "3.7.2"
  }
 },
 "nbformat": 4,
 "nbformat_minor": 2
}
