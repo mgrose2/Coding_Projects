{
 "cells": [
  {
   "cell_type": "code",
   "execution_count": 6,
   "metadata": {},
   "outputs": [],
   "source": [
    "import re\n",
    "import os\n",
    "import requests\n",
    "from bs4 import BeautifulSoup\n",
    "from matplotlib import pyplot as plt\n",
    "import os.path"
   ]
  },
  {
   "cell_type": "markdown",
   "metadata": {},
   "source": [
    "### Problem 1\n",
    "\n",
    "Use the `requests` library to get the HTML source for the website \n",
    "    `http://www.example.com`.\n",
    "    Save the source as a file called `example.html`. If the file already exists, make\n",
    "sure not to scrape the website, or overwrite the file. You will use this file later in the lab."
   ]
  },
  {
   "cell_type": "code",
   "execution_count": 7,
   "metadata": {},
   "outputs": [],
   "source": [
    "def prob1():\n",
    "    \"\"\"Use the \\li{requests} library to get the HTML source for the website \n",
    "    Save the source as a file called example.html.\n",
    "    If the file already exists, do not scrape the website or overwrite the file.\n",
    "    \"\"\"\n",
    "    #Get the file from example.com\n",
    "    outfile = \"example.html\"\n",
    "    \n",
    "    #Create the file if it does't exist\n",
    "    if not os.path.exists(outfile):\n",
    "        response = requests.get('http://example.com')\n",
    "        with open (outfile,'w') as myfile:\n",
    "            myfile.write(response.text)\n",
    "    else:\n",
    "        print(\"File already exists\")\n",
    "    return\n",
    "    return NotImplementedError(\"Problem 1 Incomplete\")"
   ]
  },
  {
   "cell_type": "markdown",
   "metadata": {},
   "source": [
    "### Problem 2\n",
    "Using the output from Problem 1, examine the HTML source code for `http:\n",
    "//www.example.com`. What tags are used? What is the value of the type attribute associated\n",
    "with the style tag?\n",
    "Write a function that returns the set of names of tags used in the website, and the value\n",
    "of the type attribute of the style tag (as a string).\n",
    "(Hint: there are ten unique tag names.)"
   ]
  },
  {
   "cell_type": "code",
   "execution_count": 9,
   "metadata": {},
   "outputs": [],
   "source": [
    "def prob2():\n",
    "    \"\"\"Examine the source code of http://www.example.com. Determine the names\n",
    "    of the tags in the code and the value of the 'type' attribute associated\n",
    "    with the 'style' tag.\n",
    "\n",
    "    Returns:\n",
    "        (set): A set of strings, each of which is the name of a tag.\n",
    "        (str): The value of the 'type' attribute in the 'style' tag.\n",
    "    \"\"\"\n",
    "    #Read example.html which was made in prob1\n",
    "    infile = \"example.html\"\n",
    "    with open(infile, 'r') as myfile:\n",
    "        text = myfile.read()\n",
    "    new_tags = []\n",
    "    \n",
    "    #Create a regex pattern to match a tag and a regex pattern to find the value of the type attribute \n",
    "    tag_pattern = re.compile(r'(<[a-zA-Z]+)(?:[^>]*>)')\n",
    "    style_pattern = re.compile(r'<style type=\\\"([a-zA-Z]*/[a-zA-Z]*)\\\">')\n",
    "    \n",
    "    #Match within the text the style type and tags\n",
    "    style_str = re.findall(style_pattern, text)\n",
    "    tags = re.findall(tag_pattern, text)\n",
    "    \n",
    "    #Make sure the tags are in the right form and return\n",
    "    for i in tags:\n",
    "        new_tags.append(i + '>')\n",
    "    return(set(new_tags), style_str[0])\n",
    "    return NotImplementedError(\"Problem 2 Incomplete\")"
   ]
  },
  {
   "cell_type": "markdown",
   "metadata": {},
   "source": [
    "### Problem 3 \n",
    "The BeautifulSoup class has a `find_all()` method that, when called with True\n",
    "as the only argument, returns a list of all tags in the HTML source code.\n",
    "Write a function that accepts a string of HTML code as an argument. Use BeautifulSoup\n",
    "to return a list of the names of the tags in the code. Use your function and the source code\n",
    "from `http://www.example.com` (use the output from Problem 1) to check your answers from\n",
    "Problem 2."
   ]
  },
  {
   "cell_type": "code",
   "execution_count": null,
   "metadata": {},
   "outputs": [],
   "source": [
    "def prob3(code):\n",
    "    \"\"\"Return a list of the names of the tags in the given HTML code.\"\"\"\n",
    "    return NotImplementedError(\"Problem 3 Incomplete\")"
   ]
  },
  {
   "cell_type": "markdown",
   "metadata": {},
   "source": [
    "### Problem 4\n",
    "Using the output from Problem 1, write a function that reads the file and loads\n",
    "the code into `BeautifulSoup`. Find the only `<a>` tag with a hyperlink, and return its text."
   ]
  },
  {
   "cell_type": "code",
   "execution_count": null,
   "metadata": {},
   "outputs": [],
   "source": [
    "def prob4(filename=\"example.html\"):\n",
    "    \"\"\"Read the specified file and load it into BeautifulSoup. Find the only\n",
    "    <a> tag with a hyperlink and return its text.\n",
    "    \"\"\"\n",
    "    return NotImplementedError(\"Problem 4 Incomplete\")"
   ]
  },
  {
   "cell_type": "markdown",
   "metadata": {},
   "source": [
    "### Problem 5\n",
    "The file `san_diego_weather.html` contains the HTML source for an old page\n",
    "from Weather Underground. Write a function that reads the file and loads it into `BeautifulSoup`. Return a list of the following tags:\n",
    "\n",
    "1. The tag containing the date \"Thursday, January 1, 2015\".\n",
    "2. The tags which contain the \\textbf{links} \"Previous Day\" and \"Next Day\".\n",
    "3. The tag which contains the number associated with the Actual Max Temperature.\n",
    "\n",
    "This HTML tree is significantly larger than the previous examples. To get started, consider\n",
    "opening the file in a web browser. Find the element that you are searching for on the page,\n",
    "right click it, and select `Inspect`. This opens the HTML source at the element that the mouse\n",
    "clicked on."
   ]
  },
  {
   "cell_type": "code",
   "execution_count": null,
   "metadata": {},
   "outputs": [],
   "source": [
    "def prob5(filename=\"san_diego_weather.html\"):\n",
    "    \"\"\"Read the specified file and load it into BeautifulSoup. Return a list\n",
    "    of the following tags:\n",
    "\n",
    "    1. The tag containing the date 'Thursday, January 1, 2015'.\n",
    "    2. The tags which contain the links 'Previous Day' and 'Next Day'.\n",
    "    3. The tag which contains the number associated with the Actual Max\n",
    "        Temperature.\n",
    "\n",
    "    Returns:\n",
    "        (list) A list of bs4.element.Tag objects (NOT text).\n",
    "    \"\"\"\n",
    "    return NotImplementedError(\"Problem 5 Incomplete\")"
   ]
  },
  {
   "cell_type": "markdown",
   "metadata": {},
   "source": [
    "### Problem 6\n",
    "The file `large_banks_index.html` is an index of data about large banks, as\n",
    "recorded by the Federal Reserve. Write a function that reads the file and loads the source into\n",
    "`BeautifulSoup`. Return a list of the tags containing the links to bank data from September 30,\n",
    "2003 to December 31, 2014, where the dates are in reverse chronological order."
   ]
  },
  {
   "cell_type": "code",
   "execution_count": null,
   "metadata": {},
   "outputs": [],
   "source": [
    "def prob6(filename=\"large_banks_index.html\"):\n",
    "    \"\"\"Read the specified file and load it into BeautifulSoup. Return a list\n",
    "    of the tags containing the links to bank data from September 30, 2003 to\n",
    "    December 31, 2014, where the dates are in reverse chronological order.\n",
    "\n",
    "    Returns:\n",
    "        (list): A list of bs4.element.Tag objects (NOT text).\n",
    "    \"\"\"\n",
    "    return NotImplementedError(\"Problem 6 Incomplete\")"
   ]
  },
  {
   "cell_type": "markdown",
   "metadata": {},
   "source": [
    "### Problem 7\n",
    "The file `large_banks_data.html` is one of the pages from the index in Problem\n",
    "6. Write a function that reads the file and loads the source into `BeautifulSoup`. Create a single\n",
    "figure with two subplots:\n",
    "\n",
    "1. A sorted bar chart of the seven banks with the most domestic branches.\n",
    "2. A sorted bar chart of the seven banks with the most foreign branches.\n",
    "\n",
    "In the case of a tie, sort the banks alphabetically by name."
   ]
  },
  {
   "cell_type": "code",
   "execution_count": null,
   "metadata": {},
   "outputs": [],
   "source": [
    "def prob(filename=\"large_banks_data.html\"):\n",
    "    \"\"\"Read the specified file and load it into BeautifulSoup. Create a single\n",
    "    figure with two subplots:\n",
    "\n",
    "    1. A sorted bar chart of the seven banks with the most domestic branches.\n",
    "    2. A sorted bar chart of the seven banks with the most foreign branches.\n",
    "\n",
    "    In the case of a tie, sort the banks alphabetically by name.\n",
    "    \"\"\"\n",
    "    return NotImplementedError(\"Problem 7 Incomplete\")"
   ]
  },
  {
   "cell_type": "code",
   "execution_count": null,
   "metadata": {},
   "outputs": [],
   "source": []
  }
 ],
 "metadata": {
  "kernelspec": {
   "display_name": "Python 3",
   "language": "python",
   "name": "python3"
  },
  "language_info": {
   "codemirror_mode": {
    "name": "ipython",
    "version": 3
   },
   "file_extension": ".py",
   "mimetype": "text/x-python",
   "name": "python",
   "nbconvert_exporter": "python",
   "pygments_lexer": "ipython3",
   "version": "3.7.3"
  }
 },
 "nbformat": 4,
 "nbformat_minor": 2
}
