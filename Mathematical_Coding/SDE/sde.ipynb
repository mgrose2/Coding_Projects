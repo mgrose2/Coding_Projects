{
 "cells": [
  {
   "cell_type": "markdown",
   "metadata": {},
   "source": [
    "# Volume 4: Stochastic Differential Equations\n",
    "\n",
    "# Name\n",
    "# Class\n",
    "# Date"
   ]
  },
  {
   "cell_type": "code",
   "execution_count": null,
   "metadata": {
    "colab": {},
    "colab_type": "code",
    "id": "veZ6ZjGpp2IW"
   },
   "outputs": [],
   "source": [
    "\"\"\"Volume 4. Stochastic Differential Equations.\"\"\"\n",
    "import numpy as np\n",
    "import matplotlib.pyplot as plt\n",
    "import pandas as pd\n",
    "from scipy.optimize import minimize\n",
    "from mpl_toolkits.mplot3d import Axes3D\n",
    "import matplotlib.pyplot as plt\n",
    "import numpy as np\n",
    "import matplotlib.animation as animation\n",
    "from scipy import linalg as la"
   ]
  },
  {
   "cell_type": "code",
   "execution_count": null,
   "metadata": {
    "colab": {},
    "colab_type": "code",
    "id": "u1xy-BFQsQWm"
   },
   "outputs": [],
   "source": [
    "# Problem 1\n",
    "def brownian_motion(g,y0,t):\n",
    "    \"\"\"\n",
    "    Use the concepts of Brownian motion to\n",
    "    generate animation of particle randomly moving\n",
    "    \n",
    "    Parameters:\n",
    "        g (func): scalar function\n",
    "        y0 (ndarray (2,)): inital condition\n",
    "        t (ndarray): time points\n",
    "    \"\"\"\n",
    "    pass"
   ]
  },
  {
   "cell_type": "code",
   "execution_count": null,
   "metadata": {
    "colab": {},
    "colab_type": "code",
    "id": "BTYY127hqPEd"
   },
   "outputs": [],
   "source": [
    "# Problem 2\n",
    "def euler_maruyama(f,g,y0,t):\n",
    "    \"\"\"\n",
    "    Use the Euler-Maruyama method to predict\n",
    "    the future n observations of the SDE\n",
    "        dS = S\\mu(t)dt + S\\sigma(t)dW\n",
    "\n",
    "    Parameters:\n",
    "        f (function): number of future observations\n",
    "        g (function): mu of dS/S\n",
    "        sigma (float): sigma of dS/S\n",
    "        y0 (ndnarray (mx1) or float or int): initial data point\n",
    "\n",
    "    Returns:\n",
    "       sol (ndarray (m,n)): future observations\n",
    "    \"\"\"\n",
    "    pass"
   ]
  },
  {
   "cell_type": "code",
   "execution_count": null,
   "metadata": {
    "colab": {},
    "colab_type": "code",
    "id": "8B9JL3fRqL2F"
   },
   "outputs": [],
   "source": [
    "# Problem 3\n",
    "def theta(data):\n",
    "    \"\"\"\n",
    "    Calculate MAP of mu and sigma.\n",
    "\n",
    "    Parameters:\n",
    "        data (str): filename of historical data\n",
    "    \n",
    "    Returns:\n",
    "        mu (ndarray): mean of data\n",
    "        sigma (ndarray): standard deviation of data\n",
    "    \"\"\"\n",
    "    pass"
   ]
  },
  {
   "cell_type": "code",
   "execution_count": null,
   "metadata": {
    "colab": {},
    "colab_type": "code",
    "id": "jhTzkd4KqQh_"
   },
   "outputs": [],
   "source": [
    "# Problem 4\n",
    "def prob4(iters=1000):\n",
    "    \"\"\"\n",
    "    Use the Euler-Maruyama method on historical Google stock data.\n",
    "    Run the method 1000 times and plot the average predict stock value\n",
    "    for the next n values\n",
    "\n",
    "    Parameters:\n",
    "        n (int): number of predicted values\n",
    "        iterations (int): number of iterations\n",
    "    \"\"\"\n",
    "    pass"
   ]
  },
  {
   "cell_type": "code",
   "execution_count": null,
   "metadata": {},
   "outputs": [],
   "source": [
    "def convergence(iters = 1000):\n",
    "    \"\"\"\n",
    "    Show convergence of EM\n",
    "    \n",
    "    Parameters:\n",
    "        iters (int): number of times to calculate difference\n",
    "    \"\"\"\n",
    "    pass"
   ]
  }
 ],
 "metadata": {
  "kernelspec": {
   "display_name": "Python 3",
   "language": "python",
   "name": "python3"
  },
  "language_info": {
   "codemirror_mode": {
    "name": "ipython",
    "version": 3
   },
   "file_extension": ".py",
   "mimetype": "text/x-python",
   "name": "python",
   "nbconvert_exporter": "python",
   "pygments_lexer": "ipython3",
   "version": "3.7.2"
  }
 },
 "nbformat": 4,
 "nbformat_minor": 2
}
