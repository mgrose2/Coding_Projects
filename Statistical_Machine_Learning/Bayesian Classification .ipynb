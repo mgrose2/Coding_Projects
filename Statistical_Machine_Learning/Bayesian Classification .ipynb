{
 "cells": [
  {
   "cell_type": "markdown",
   "metadata": {},
   "source": [
    "Implementing a baysian classification model for predicting patterns of numbers."
   ]
  },
  {
   "cell_type": "code",
   "execution_count": 1,
   "metadata": {},
   "outputs": [
    {
     "name": "stdout",
     "output_type": "stream",
     "text": [
      "Populating the interactive namespace from numpy and matplotlib\n"
     ]
    }
   ],
   "source": [
    "import numpy as np\n",
    "import sympy as sy\n",
    "import seaborn as sns\n",
    "import matplotlib.pyplot as plt\n",
    "import math\n",
    "\n",
    "%matplotlib inline\n",
    "%pylab inline\n",
    "pylab.rcParams['figure.figsize'] = (16.0, 8.0)\n",
    "\n",
    "concepts = 32"
   ]
  },
  {
   "cell_type": "code",
   "execution_count": 34,
   "metadata": {
    "collapsed": true
   },
   "outputs": [],
   "source": [
    "prior = np.ones((concepts))\n",
    "prior[0] = 5\n",
    "prior[1] = 5\n",
    "prior[30] = .01\n",
    "prior[31] = .01\n",
    "prior = prior / np.sum(prior)\n"
   ]
  },
  {
   "cell_type": "code",
   "execution_count": 35,
   "metadata": {},
   "outputs": [
    {
     "name": "stdout",
     "output_type": "stream",
     "text": [
      "Please enter a set of numbers (a space in between each number): 16\n"
     ]
    }
   ],
   "source": [
    "first = input('Please enter a set of numbers (a space in between each number): ')"
   ]
  },
  {
   "cell_type": "code",
   "execution_count": 36,
   "metadata": {
    "collapsed": true
   },
   "outputs": [],
   "source": [
    "numbers = [int(i) for i in first.split(' ') if i.isdigit()]\n",
    "vec = np.ones((len(numbers)))\n",
    "for i in range(0, len(numbers)):\n",
    "    vec[i] = numbers[i]"
   ]
  },
  {
   "cell_type": "code",
   "execution_count": 37,
   "metadata": {
    "collapsed": true
   },
   "outputs": [],
   "source": [
    "def even_check():\n",
    "    if  np.all(vec%2==0) ==True:\n",
    "        return (1/50)**(len(vec))\n",
    "    else:\n",
    "        return 0\n",
    "       \n",
    "def odd_check():\n",
    "    if np.all(vec%2==1) ==True:\n",
    "        return(1/50)**(len(vec))\n",
    "    else:\n",
    "        return 0\n",
    "    \n",
    "def squares_check():\n",
    "    for j in range(0, len(vec)):\n",
    "        my_continue = True\n",
    "        i = 0\n",
    "        while my_continue == True:\n",
    "            if i**2 == vec[j]:\n",
    "                my_continue = False\n",
    "            if i == 11 :\n",
    "                return 0 \n",
    "            i = i + 1\n",
    "    return (1/10)**(len(vec))\n",
    "    \n",
    "def mult_of_check(x):\n",
    "    if np.all(vec%x==0) ==True:\n",
    "        return (1/(100/x))**(len(vec))\n",
    "    else:\n",
    "        return 0\n",
    "    \n",
    "def ends_in_check(x):\n",
    "    if np.all(vec%10==x)==True:\n",
    "        return (1/10)**(len(vec))\n",
    "    else:\n",
    "        return 0  \n",
    "    \n",
    "def powers_of_check(x):\n",
    "    for j in range(0, len(vec)):\n",
    "        my_continue = True\n",
    "        i = 0\n",
    "        while my_continue == True:\n",
    "            if x**i == vec[j]:\n",
    "                my_continue = False\n",
    "            if i == 7:\n",
    "                return 0\n",
    "            i = i+1\n",
    "    counter = 0\n",
    "    while x**counter<=100:\n",
    "        counter = counter+1\n",
    "    return (1/counter)**(len(vec))\n",
    "            \n",
    "                \n",
    "    \n",
    "def all_num():\n",
    "    if np.all(vec>-1)==True:\n",
    "        return(1/100)**(len(vec))\n",
    "    else:\n",
    "        return 0\n",
    "    \n",
    "def powers_of_two_plus():\n",
    "    for j in range(0, len(vec)):\n",
    "        my_continue = True\n",
    "        i = 0\n",
    "        while my_continue == True:\n",
    "            if vec[j] == 2**i or vec[j] == 37:\n",
    "                my_continue = False\n",
    "            if i == 7:\n",
    "                return 0\n",
    "            i = i+1\n",
    "    return(1/8)**(len(vec))\n",
    "\n",
    "def powers_of_two_minus():\n",
    "    for j in range(0, len(vec)):\n",
    "        my_continue = True\n",
    "        i = 0\n",
    "        while my_continue == True:\n",
    "            if vec[j] == 32:\n",
    "                return 0\n",
    "            if vec[j] == 2**i:\n",
    "                my_continue = False\n",
    "            if i == 7:\n",
    "                return 0\n",
    "            i = i+1\n",
    "    return(1/6)**(len(vec))\n",
    "    "
   ]
  },
  {
   "cell_type": "code",
   "execution_count": 38,
   "metadata": {},
   "outputs": [],
   "source": [
    "likelihood = np.ones((concepts))\n",
    "likelihood[0] = even_check()\n",
    "likelihood[1] = odd_check()\n",
    "likelihood[2] = squares_check()\n",
    "\n",
    "for i in range(3, 11):\n",
    "    likelihood[i] = mult_of_check(i)\n",
    "\n",
    "for i in range(1, 10):\n",
    "    likelihood[i+10] = ends_in_check(i)\n",
    "    \n",
    "for i in range(2, 11):\n",
    "    likelihood[18+i] = powers_of_check(i)\n",
    "    \n",
    "likelihood[29] = all_num()\n",
    "likelihood[30] = powers_of_two_plus()\n",
    "likelihood[31] = powers_of_two_minus()\n",
    "\n",
    "posterior = np.ones((concepts))\n",
    "for i in range(0, 32):\n",
    "    posterior[i] = likelihood[i]*prior[i]\n",
    "    \n",
    "posterior = posterior/np.sum(posterior)"
   ]
  },
  {
   "cell_type": "code",
   "execution_count": 39,
   "metadata": {
    "scrolled": false
   },
   "outputs": [
    {
     "data": {
      "image/png": "[encoded data removed]",
      "text/plain": [
       "<matplotlib.figure.Figure at 0x111e74828>"
      ]
     },
     "metadata": {},
     "output_type": "display_data"
    }
   ],
   "source": [
    "ax1 =plt.subplot(131)\n",
    "ax2 = plt.subplot(132)\n",
    "ax3 = plt.subplot(133)\n",
    "plt.tight_layout()\n",
    "groups = ('even', 'odd', 'squares', 'mult of 3', 'mult of 4', 'mult of 5', 'mult of 6', 'mult of 7', 'mult of 8',\n",
    "          'mult of 9', 'mult of 10', 'ends in 1', 'ends in 2', 'ends in 3', 'ends in 4', 'ends in 5'\n",
    "          , 'ends in 6','ends in 7', 'ends in 8', 'ends in 9', 'powers of 2', 'powers of 3', 'powers of 4', \n",
    "          'powers of 5', 'powers of 6', 'powers of 7','powers of 8', 'powers of 9', 'powers of 10', 'all', \n",
    "          'powers of 2 + {37}', 'powers of 2 - {32}')\n",
    "\n",
    "y_pos = np.arange(len(groups))\n",
    "\n",
    "ax1.set_yticks(y_pos)\n",
    "ax1.set_yticklabels(groups)\n",
    "ax1.barh(y_pos, prior, align = 'center', alpha=.5)\n",
    "ax1.invert_yaxis()  \n",
    "ax1.set_xlabel('Probability')\n",
    "ax1.set_title('Prior')\n",
    "\n",
    "\n",
    "\n",
    "ax2.set_yticks(y_pos)\n",
    "ax2.set_yticklabels(groups)\n",
    "ax2.barh(y_pos, likelihood, align = 'center', alpha=.5)\n",
    "ax2.invert_yaxis()  \n",
    "ax2.set_xlabel('Probability')\n",
    "ax2.set_title('Likelihood')\n",
    "\n",
    "\n",
    "\n",
    "ax3.set_yticks(y_pos)\n",
    "ax3.set_yticklabels(groups)\n",
    "ax3.barh(y_pos, posterior, align = 'center', alpha=.5)\n",
    "ax3.invert_yaxis()  \n",
    "ax3.set_xlabel('Probability')\n",
    "ax3.set_title('Posterior')\n",
    "\n",
    "\n",
    "plt.show()\n"
   ]
  },
  {
   "cell_type": "code",
   "execution_count": 40,
   "metadata": {},
   "outputs": [
    {
     "name": "stdout",
     "output_type": "stream",
     "text": [
      "[ 0.13150973  0.13150973  0.02630195  0.02630195  0.02630195  0.02630195\n",
      "  0.02630195  0.02630195  0.02630195  0.02630195  0.02630195  0.02630195\n",
      "  0.02630195  0.02630195  0.02630195  0.02630195  0.02630195  0.02630195\n",
      "  0.02630195  0.02630195  0.02630195  0.02630195  0.02630195  0.02630195\n",
      "  0.02630195  0.02630195  0.02630195  0.02630195  0.02630195  0.02630195\n",
      "  0.00026302  0.00026302]\n"
     ]
    }
   ],
   "source": [
    "print(prior)"
   ]
  },
  {
   "cell_type": "code",
   "execution_count": 41,
   "metadata": {},
   "outputs": [
    {
     "name": "stdout",
     "output_type": "stream",
     "text": [
      "[ 0.02        0.          0.1         0.          0.04        0.          0.\n",
      "  0.          0.08        0.          0.          0.          0.          0.\n",
      "  0.          0.          0.1         0.          0.          0.\n",
      "  0.14285714  0.          0.25        0.          0.          0.          0.\n",
      "  0.          0.          0.01        0.125       0.16666667]\n"
     ]
    }
   ],
   "source": [
    "print(likelihood)"
   ]
  },
  {
   "cell_type": "code",
   "execution_count": 42,
   "metadata": {},
   "outputs": [
    {
     "name": "stdout",
     "output_type": "stream",
     "text": [
      "[ 0.12109854  0.          0.12109854  0.          0.04843941  0.          0.\n",
      "  0.          0.09687883  0.          0.          0.          0.          0.\n",
      "  0.          0.          0.12109854  0.          0.          0.\n",
      "  0.17299791  0.          0.30274634  0.          0.          0.          0.\n",
      "  0.          0.          0.01210985  0.00151373  0.00201831]\n"
     ]
    }
   ],
   "source": [
    "print(posterior)"
   ]
  },
  {
   "cell_type": "code",
   "execution_count": 43,
   "metadata": {},
   "outputs": [],
   "source": [
    "post_pred = np.ones((100))\n",
    "\n",
    "for q in range(0, 100):\n",
    "    vec=np.array([q])\n",
    "    if even_check() != 0:\n",
    "        post_pred[q] = posterior[0]\n",
    "    else:\n",
    "        post_pred[q] = posterior[1]\n",
    "    if squares_check() !=0:\n",
    "        post_pred[q] = post_pred[q]+posterior[2]\n",
    "    for i in range(3, 11):\n",
    "        if mult_of_check(i) !=0:\n",
    "            post_pred[q] = post_pred[q] + posterior[i]\n",
    "    for i in range(1, 10):\n",
    "        if ends_in_check(i) !=0:\n",
    "            post_pred[q] = post_pred[q] + posterior[i+10]\n",
    "    for i in range(2, 11):\n",
    "        if powers_of_check(i) !=0:\n",
    "            post_pred[q] = post_pred[q] + posterior[18+i]\n",
    "    if all_num() != 0:\n",
    "        post_pred[q] = post_pred[q] + posterior[29]\n",
    "    if powers_of_two_plus() != 0:\n",
    "        post_pred[q] = post_pred[q] + posterior[30]\n",
    "    if powers_of_two_minus() != 0:\n",
    "        post_pred[q] = post_pred[q] + posterior[31]\n"
   ]
  },
  {
   "cell_type": "code",
   "execution_count": 44,
   "metadata": {},
   "outputs": [
    {
     "data": {
      "image/png": "[encoded data removed]",
      "text/plain": [
       "<matplotlib.figure.Figure at 0x1124cf9b0>"
      ]
     },
     "metadata": {},
     "output_type": "display_data"
    }
   ],
   "source": [
    "x_pos = np.arange(len(post_pred))\n",
    "plt.bar(x_pos+1, post_pred, align = 'center', alpha=.5)\n",
    "plt.xlabel(\"Numbers\")\n",
    "plt.ylabel(\"Probability\")\n",
    "plt.title('Posterior Predictive Distribution')\n",
    "\n",
    "plt.show()"
   ]
  },
  {
   "cell_type": "code",
   "execution_count": 45,
   "metadata": {},
   "outputs": [
    {
     "name": "stdout",
     "output_type": "stream",
     "text": [
      "[ 0.39962517  0.61248468  0.30973834  0.01210985  0.78202263  0.01210985\n",
      "  0.25430693  0.01210985  0.45505658  0.13320839  0.13320839  0.01210985\n",
      "  0.18164781  0.01210985  0.13320839  0.01210985  1.          0.01210985\n",
      "  0.13320839  0.01210985  0.18164781  0.01210985  0.13320839  0.01210985\n",
      "  0.27852663  0.13320839  0.25430693  0.01210985  0.18164781  0.01210985\n",
      "  0.13320839  0.01210985  0.45303828  0.01210985  0.13320839  0.01210985\n",
      "  0.42384488  0.01362359  0.13320839  0.01210985  0.27852663  0.01210985\n",
      "  0.13320839  0.01210985  0.18164781  0.01210985  0.25430693  0.01210985\n",
      "  0.27852663  0.13320839  0.13320839  0.01210985  0.18164781  0.01210985\n",
      "  0.13320839  0.01210985  0.39962517  0.01210985  0.13320839  0.01210985\n",
      "  0.18164781  0.01210985  0.13320839  0.01210985  0.87890146  0.01210985\n",
      "  0.25430693  0.01210985  0.18164781  0.01210985  0.13320839  0.01210985\n",
      "  0.27852663  0.01210985  0.13320839  0.01210985  0.30274634  0.01210985\n",
      "  0.13320839  0.01210985  0.27852663  0.13320839  0.13320839  0.01210985\n",
      "  0.18164781  0.01210985  0.25430693  0.01210985  0.27852663  0.01210985\n",
      "  0.13320839  0.01210985  0.18164781  0.01210985  0.13320839  0.01210985\n",
      "  0.39962517  0.01210985  0.13320839  0.01210985]\n"
     ]
    }
   ],
   "source": [
    "print(post_pred)"
   ]
  },
  {
   "cell_type": "code",
   "execution_count": null,
   "metadata": {
    "collapsed": true
   },
   "outputs": [],
   "source": []
  }
 ],
 "metadata": {
  "kernelspec": {
   "display_name": "Python 3",
   "language": "python",
   "name": "python3"
  },
  "language_info": {
   "codemirror_mode": {
    "name": "ipython",
    "version": 3
   },
   "file_extension": ".py",
   "mimetype": "text/x-python",
   "name": "python",
   "nbconvert_exporter": "python",
   "pygments_lexer": "ipython3",
   "version": "3.7.3"
  }
 },
 "nbformat": 4,
 "nbformat_minor": 2
}
