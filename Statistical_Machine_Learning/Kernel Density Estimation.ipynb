{
 "cells": [
  {
   "cell_type": "markdown",
   "metadata": {},
   "source": [
    "Implementing Kernel Density Estimation to predict handwrittend digits using the MNIST datset."
   ]
  },
  {
   "cell_type": "code",
   "execution_count": 1,
   "metadata": {},
   "outputs": [
    {
     "name": "stdout",
     "output_type": "stream",
     "text": [
      "Populating the interactive namespace from numpy and matplotlib\n"
     ]
    }
   ],
   "source": [
    "import numpy as np\n",
    "import pandas as pd \n",
    "import matplotlib.pyplot as plt\n",
    "import scipy.io\n",
    "import math\n",
    "from sklearn.metrics import confusion_matrix\n",
    "\n",
    "\n",
    "%matplotlib inline\n",
    "%pylab inline\n",
    "pylab.rcParams['figure.figsize'] = (16.0, 8.0)"
   ]
  },
  {
   "cell_type": "code",
   "execution_count": 2,
   "metadata": {
    "collapsed": true
   },
   "outputs": [],
   "source": [
    "train_mat = scipy.io.loadmat('mnist_train.mat')\n",
    "train_data = train_mat['images']\n",
    "train_labels = train_mat['labels']\n",
    " \n",
    "test_mat = scipy.io.loadmat('mnist_test.mat')\n",
    "test_data = test_mat['t10k_images']\n",
    "test_labels = test_mat['t10k_labels']"
   ]
  },
  {
   "cell_type": "markdown",
   "metadata": {},
   "source": [
    "## Digit Print"
   ]
  },
  {
   "cell_type": "code",
   "execution_count": 3,
   "metadata": {
    "collapsed": true
   },
   "outputs": [],
   "source": [
    "zero_list = []\n",
    "one_list = []\n",
    "two_list = []\n",
    "three_list = []\n",
    "four_list = []\n",
    "five_list = []\n",
    "six_list = []\n",
    "seven_list = []\n",
    "eight_list = []\n",
    "nine_list = []\n",
    "\n",
    "for i in range(0, 60000):\n",
    "    if train_labels[i] == 0:\n",
    "        zero_list.append(i)\n",
    "    elif train_labels[i] ==1:\n",
    "        one_list.append(i)\n",
    "    elif train_labels[i] ==2:\n",
    "        two_list.append(i)\n",
    "    elif train_labels[i] ==3:\n",
    "        three_list.append(i)\n",
    "    elif train_labels[i] ==4:\n",
    "        four_list.append(i)\n",
    "    elif train_labels[i] ==5:\n",
    "        five_list.append(i)\n",
    "    elif train_labels[i] ==6:\n",
    "        six_list.append(i)\n",
    "    elif train_labels[i] ==7:\n",
    "        seven_list.append(i)\n",
    "    elif train_labels[i] ==8:\n",
    "        eight_list.append(i)\n",
    "    elif train_labels[i] ==9:\n",
    "        nine_list.append(i)\n",
    "        \n",
    "big_list = []\n",
    "big_list = (zero_list, one_list, two_list, three_list, four_list, five_list, six_list, seven_list, eight_list,\n",
    "               nine_list)\n",
    "\n",
    "zero_array = np.array(np.column_stack(train_data[:,zero_list]))\n",
    "one_array = np.array(np.column_stack(train_data[:,one_list]))\n",
    "two_array = np.array(np.column_stack(train_data[:,two_list]))\n",
    "three_array = np.array(np.column_stack(train_data[:,three_list]))\n",
    "four_array = np.array(np.column_stack(train_data[:,four_list]))\n",
    "five_array = np.array(np.column_stack(train_data[:, five_list]))\n",
    "six_array = np.array(np.column_stack(train_data[:, six_list]))\n",
    "seven_array = np.array(np.column_stack(train_data[:,seven_list]))\n",
    "eight_array = np.array(np.column_stack(train_data[:,eight_list]))\n",
    "nine_array = np.array(np.column_stack(train_data[:,nine_list]))\n",
    "\n",
    "zero_avg = np.ones(784)\n",
    "one_avg = np.ones(784)\n",
    "two_avg = np.ones(784)\n",
    "three_avg = np.ones(784)\n",
    "four_avg = np.ones(784)\n",
    "five_avg = np.ones(784)\n",
    "six_avg = np.ones(784)\n",
    "seven_avg = np.ones(784)\n",
    "eight_avg = np.ones(784)\n",
    "nine_avg = np.ones(784)\n",
    "\n",
    "for i in range(0, 784):\n",
    "    zero_avg[i] = zero_array[:,i].mean()\n",
    "    one_avg[i] = one_array[:,i].mean()\n",
    "    two_avg[i] = two_array[:,i].mean()\n",
    "    three_avg[i] = three_array[:,i].mean()\n",
    "    four_avg[i] = four_array[:,i].mean()\n",
    "    five_avg[i] = five_array[:,i].mean()\n",
    "    six_avg[i] = six_array[:,i].mean()\n",
    "    seven_avg[i] = seven_array[:,i].mean()\n",
    "    eight_avg[i] = eight_array[:,i].mean()\n",
    "    nine_avg[i] = nine_array[:,i].mean()\n",
    "avg = np.array(np.column_stack((zero_avg, one_avg, two_avg, three_avg, four_avg, five_avg, six_avg,\n",
    "                                     seven_avg, eight_avg, nine_avg)))"
   ]
  },
  {
   "cell_type": "code",
   "execution_count": 4,
   "metadata": {},
   "outputs": [
    {
     "data": {
      "image/png": "[encoded data removed]",
      "text/plain": [
       "<matplotlib.figure.Figure at 0x11aae0a58>"
      ]
     },
     "metadata": {},
     "output_type": "display_data"
    }
   ],
   "source": [
    "im0 = plt.subplot(251)\n",
    "im1 = plt.subplot(252)\n",
    "im2 = plt.subplot(253)\n",
    "im3 = plt.subplot(254)\n",
    "im4 = plt.subplot(255)\n",
    "im5 = plt.subplot(256)\n",
    "im6 = plt.subplot(257)\n",
    "im7 = plt.subplot(258)\n",
    "im8 = plt.subplot(259)\n",
    "im9 = plt.subplot(2,5,10)\n",
    "\n",
    "im0.imshow(avg[:,0].reshape(28,28).T, interpolation='nearest', cmap=\"gray\")\n",
    "im1.imshow(avg[:,1].reshape(28,28).T, interpolation='nearest', cmap=\"gray\")\n",
    "im2.imshow(avg[:,2].reshape(28,28).T, interpolation='nearest', cmap=\"gray\")\n",
    "im3.imshow(avg[:,3].reshape(28,28).T, interpolation='nearest', cmap=\"gray\")\n",
    "im4.imshow(avg[:,4].reshape(28,28).T, interpolation='nearest', cmap=\"gray\")\n",
    "im5.imshow(avg[:,5].reshape(28,28).T, interpolation='nearest', cmap=\"gray\")\n",
    "im6.imshow(avg[:,6].reshape(28,28).T, interpolation='nearest', cmap=\"gray\")\n",
    "im7.imshow(avg[:,7].reshape(28,28).T, interpolation='nearest', cmap=\"gray\")\n",
    "im8.imshow(avg[:,8].reshape(28,28).T, interpolation='nearest', cmap=\"gray\")\n",
    "im9.imshow(avg[:,9].reshape(28,28).T, interpolation='nearest', cmap=\"gray\")\n",
    "plt.show()"
   ]
  },
  {
   "cell_type": "markdown",
   "metadata": {},
   "source": [
    "## Median Kernal Estimator"
   ]
  },
  {
   "cell_type": "code",
   "execution_count": 5,
   "metadata": {},
   "outputs": [
    {
     "name": "stdout",
     "output_type": "stream",
     "text": [
      "Error Percentage: % 17.97\n"
     ]
    }
   ],
   "source": [
    "correct_check = 0\n",
    "\n",
    "digit_prob = np.ones((10, len(test_labels)))\n",
    "results = np.ones(len(test_labels))\n",
    "sigma = np.eye(784)\n",
    "for i in range(0, 10):\n",
    "    diff = avg[:,[i]] - test_data\n",
    "    prob = (2*pi**(-784/2))*np.exp(-.5*np.sum(diff*np.dot(sigma, diff), axis=0, keepdims=True))/784\n",
    "    digit_prob[i] = prob\n",
    "\n",
    "for i in range(0, len(test_labels)):\n",
    "    results[i] = digit_prob[:,i].argmax()\n",
    "    \n",
    "for i in range(0, len(test_labels)):\n",
    "    if results[i] == test_labels[i]:\n",
    "         correct_check = correct_check+1\n",
    "        \n",
    "error_percent = (1-correct_check/len(test_labels))*100\n",
    "print (\"Error Percentage: %\", error_percent)"
   ]
  },
  {
   "cell_type": "code",
   "execution_count": 6,
   "metadata": {},
   "outputs": [
    {
     "data": {
      "text/plain": [
       "<matplotlib.text.Text at 0x15261b160>"
      ]
     },
     "execution_count": 6,
     "metadata": {},
     "output_type": "execute_result"
    },
    {
     "data": {
      "image/png": "[encoded data removed]",
      "text/plain": [
       "<matplotlib.figure.Figure at 0x15266ff60>"
      ]
     },
     "metadata": {},
     "output_type": "display_data"
    }
   ],
   "source": [
    "y_true = test_labels\n",
    "y_pred = results\n",
    "M = confusion_matrix(y_true, y_pred)\n",
    "plt.matshow(M)\n",
    "plt.colorbar()\n",
    "plt.ylabel('True Values')\n",
    "plt.xlabel('Predicted Values')\n",
    "plt.title(\"Confusion Matrix Using Class Means\")"
   ]
  },
  {
   "cell_type": "markdown",
   "metadata": {},
   "source": [
    "## Full Kernal Density Estimator"
   ]
  },
  {
   "cell_type": "code",
   "execution_count": 7,
   "metadata": {},
   "outputs": [
    {
     "name": "stdout",
     "output_type": "stream",
     "text": [
      "Error Percentage: % 4.0000000000000036\n"
     ]
    }
   ],
   "source": [
    "correct_check = 0\n",
    "anomaly_detection = np.ones(1000)\n",
    "digit_prob = np.ones((1000,10))\n",
    "results = np.zeros(1000)\n",
    "sigma = np.eye(1000)\n",
    "\n",
    "for i in range(0, 10):\n",
    "    first = np.sum(test_data[:,0:1000]*test_data[:,0:1000], axis = 0, keepdims = True)\n",
    "    second = np.sum(train_data[:,big_list[i]]*train_data[:,big_list[i]], axis = 0, keepdims = True)\n",
    "    middle = -2*test_data[:,0:1000].T.dot(train_data[:,big_list[i]])\n",
    "    prob = ((2*pi**(-784/2))*np.exp(-.5*(first.T+middle+second)))\n",
    "    prob = np.sum(prob, axis = 1, keepdims = True)/len(big_list[i])\n",
    "    digit_prob[:,[i]] = prob\n",
    "    \n",
    "for i in range(0,1000):\n",
    "    results[i] = digit_prob[i].argmax()\n",
    "    anomaly_detection[i] = prob[i,prob[i].argmax()]\n",
    "    if results[i] == test_labels[i]:\n",
    "         correct_check = correct_check+1\n",
    "        \n",
    "error_percent = (1-correct_check/1000)*100\n",
    "print (\"Error Percentage: %\", error_percent)\n"
   ]
  },
  {
   "cell_type": "code",
   "execution_count": 8,
   "metadata": {},
   "outputs": [
    {
     "data": {
      "text/plain": [
       "<matplotlib.text.Text at 0x15fac5390>"
      ]
     },
     "execution_count": 8,
     "metadata": {},
     "output_type": "execute_result"
    },
    {
     "data": {
      "image/png": "[encoded data removed]",
      "text/plain": [
       "<matplotlib.figure.Figure at 0x15f6a4dd8>"
      ]
     },
     "metadata": {},
     "output_type": "display_data"
    }
   ],
   "source": [
    "y_true = test_labels[0:1000,:]\n",
    "y_pred = results\n",
    "M = confusion_matrix(y_true, y_pred)\n",
    "plt.matshow(M)\n",
    "plt.colorbar()\n",
    "plt.ylabel('True Values')\n",
    "plt.xlabel('Predicted Values')\n",
    "plt.title(\"Confusion Matrix Using Class Means\")"
   ]
  },
  {
   "cell_type": "markdown",
   "metadata": {},
   "source": [
    "## Anamoly Detection"
   ]
  },
  {
   "cell_type": "code",
   "execution_count": 9,
   "metadata": {},
   "outputs": [
    {
     "name": "stdout",
     "output_type": "stream",
     "text": [
      "The anomaly is in the test data at position 151\n"
     ]
    },
    {
     "data": {
      "text/plain": [
       "<matplotlib.image.AxesImage at 0x169a45b00>"
      ]
     },
     "execution_count": 9,
     "metadata": {},
     "output_type": "execute_result"
    },
    {
     "data": {
      "image/png": "[encoded data removed]",
      "text/plain": [
       "<matplotlib.figure.Figure at 0x15f6a4d30>"
      ]
     },
     "metadata": {},
     "output_type": "display_data"
    }
   ],
   "source": [
    "correct_check = 0\n",
    "anomaly_detection = np.ones(1000)\n",
    "digit_prob = np.ones((1000,10))\n",
    "results = np.zeros(1000)\n",
    "sigma = np.eye(1000)\n",
    "\n",
    "\n",
    "first = np.sum(test_data[:,0:1000]*test_data[:,0:1000], axis = 0, keepdims = True)\n",
    "second = np.sum(train_data*train_data, axis = 0, keepdims = True)\n",
    "middle = -2*test_data[:,0:1000].T.dot(train_data)\n",
    "prob = ((2*pi**(-784/2))*np.exp(-.5*(first.T+middle+second)))\n",
    "prob = np.sum(prob, axis = 1, keepdims = True)/len(train_labels)\n",
    "    \n",
    "for i in range(0,1000):\n",
    "    results[i] = prob[i].argmax()\n",
    "    anomaly_detection[i] = prob[i,prob[i].argmax()]\n",
    "    \n",
    "    \n",
    "anomaly = 0\n",
    "anomaly = anomaly_detection.argmin()\n",
    "print(\"The anomaly is in the test data at position\", anomaly)\n",
    "imshow(test_data[:,anomaly].reshape(28,28).T, interpolation='nearest', cmap=\"gray\")"
   ]
  },
  {
   "cell_type": "code",
   "execution_count": null,
   "metadata": {
    "collapsed": true
   },
   "outputs": [],
   "source": []
  }
 ],
 "metadata": {
  "kernelspec": {
   "display_name": "Python 3",
   "language": "python",
   "name": "python3"
  },
  "language_info": {
   "codemirror_mode": {
    "name": "ipython",
    "version": 3
   },
   "file_extension": ".py",
   "mimetype": "text/x-python",
   "name": "python",
   "nbconvert_exporter": "python",
   "pygments_lexer": "ipython3",
   "version": "3.7.3"
  }
 },
 "nbformat": 4,
 "nbformat_minor": 2
}
